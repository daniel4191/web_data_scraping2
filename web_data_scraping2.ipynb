{
 "cells": [
  {
   "cell_type": "markdown",
   "id": "1e75db87",
   "metadata": {},
   "source": [
    "# 오피넷(기름정보 사이트)\n",
    "## 매장정보 스크래핑"
   ]
  },
  {
   "cell_type": "code",
   "execution_count": null,
   "id": "8c40e594",
   "metadata": {},
   "outputs": [],
   "source": [
    "from bs4 import BeautifulSoup\n",
    "from selenium import webdriver\n",
    "from selenium.webdriver.support.ui import WebDriverWait\n",
    "from selenium.webdriver.support import expected_conditions as EC\n",
    "from selenium.webdriver.common.by import By\n",
    "\n",
    "import selenium\n",
    "import pandas as pd\n",
    "import time\n",
    "import googlemaps\n",
    "import chromedriver_autoinstaller"
   ]
  },
  {
   "cell_type": "code",
   "execution_count": null,
   "id": "71d23866",
   "metadata": {},
   "outputs": [],
   "source": [
    "url = 'https://www.opinet.co.kr/searRgSelect.do'\n",
    "driver = webdriver.Chrome('/Users/daniel_choi/opt/anaconda3/envs/ds_study/lib/python3.8/site-packages/chromedriver_autoinstaller/103/chromedriver')\n",
    "driver.get(url)\n",
    "\n",
    "# WebDriverWait(driver, 10).until(EC.element_to_be_clickable((By.CSS_SELECTOR, \"select#SIDO_NM0\"))).send_keys(\"서울\")"
   ]
  },
  {
   "cell_type": "markdown",
   "id": "8b4fc249",
   "metadata": {},
   "source": [
    "## 체크 및 테스트 라인\n",
    "\n",
    "#### 동적 데이터를 가지고 있는 오피넷은 상당한 테스트가 필요했다. 따라서 테스트 영역과 실제로 데이터 스크래핑을 하는 영역을 나눈다."
   ]
  },
  {
   "cell_type": "code",
   "execution_count": null,
   "id": "945e516a",
   "metadata": {},
   "outputs": [],
   "source": [
    "# 시, 도 리스트\n",
    "sido_raw = driver.find_elements(By.CSS_SELECTOR, 'select#SIDO_NM0 > option')\n",
    "\n",
    "sido_list = []\n",
    "for i in sido_raw[1:]:\n",
    "    sido_list.append(i.text)\n",
    "\n",
    "sido_list\n",
    "\n",
    "# 시군구\n",
    "gu_list_raw = driver.find_elements(By.CSS_SELECTOR, 'select#SIGUNGU_NM0 > option')\n",
    "len(gu_list_raw)\n",
    "\n",
    "gu_list = []\n",
    "for i in gu_list_raw[1:]:\n",
    "    gu_list.append(i.text)\n",
    "\n",
    "gu_list"
   ]
  },
  {
   "cell_type": "code",
   "execution_count": null,
   "id": "52686de2",
   "metadata": {},
   "outputs": [],
   "source": [
    "# 휘발유\n",
    "gas = main_raw[0].find_elements(By.CSS_SELECTOR, 'td.price')[0].text\n",
    "\n",
    "# 경유\n",
    "diesel = main_raw[0].find_elements(By.CSS_SELECTOR, 'td.price')[1].text\n",
    "\n",
    "# 브랜드명\n",
    "brand = main_raw[0].find_elements(By.CSS_SELECTOR, 'img')[0].get_attribute('alt')\n",
    "\n",
    "# 셀프 여부\n",
    "is_self = main_raw[0].find_elements(By.CSS_SELECTOR, 'span.ico')[0].text\n",
    "\n",
    "# 상호명\n",
    "name = main_raw[0].find_elements(By.CSS_SELECTOR, 'a')[0].text\n",
    "\n",
    "print(gas,diesel, brand, is_self, name)"
   ]
  },
  {
   "cell_type": "code",
   "execution_count": null,
   "id": "796765d9",
   "metadata": {},
   "outputs": [],
   "source": [
    "# 세부페이지 클릭 (팝업창)\n",
    "\n",
    "main_raw[0].find_elements(By.CSS_SELECTOR, 'a')[0].click()"
   ]
  },
  {
   "cell_type": "code",
   "execution_count": null,
   "id": "c72e6d3f",
   "metadata": {},
   "outputs": [],
   "source": [
    "# \n",
    "driver.find_elements(By.CSS_SELECTOR, 'label#os_nm')[0].text\n",
    "# 확인해봤더니, 팝업창이 띄워져 있을때만 스크래핑이 가능하다."
   ]
  },
  {
   "cell_type": "code",
   "execution_count": null,
   "id": "21c7fbe7",
   "metadata": {},
   "outputs": [],
   "source": [
    "# 제목 가져오기 시도 첫번째\n",
    "import time\n",
    "# 특성상, 팝업창이 띄워져 있는 상태에서만 사용 가능한 것이기에, 여기에 대한 반복문은 안될것같다\n",
    "driver.execute_script('window.scrollTo(0,0);')\n",
    "time.sleep(0.5)\n",
    "driver.find_elements(By.CSS_SELECTOR, 'label#os_nm')[0].text\n",
    "\n",
    "# 그런데 이것도 약간 한계가 있는것이, 내가 긁어오고자 하는 자료가 화면에 보이는 상태가 아니면 크롤링이 안된다.\n",
    "# 심지어 21인치에 최대치 사이즈인데도 안보이는 주유소가 종종있다. \n",
    "# 이것을 해결하기 위해서 강사님은\n",
    "\n",
    "# python selenium get text of hidden elements 라는 키워드로 구글링을 했다."
   ]
  },
  {
   "cell_type": "code",
   "execution_count": null,
   "id": "d934c4dd",
   "metadata": {},
   "outputs": [],
   "source": [
    "# 제목 가져오기 시도 두번째\n",
    "\n",
    "# 화면에서 보이지 않는 가려져 있는, 팝업의 글을 가져올때는 3가지 방법이 있다.\n",
    "# 팝업 뿐만 아니라, 보이지 않는 글들을 포함\n",
    "\n",
    "# 1\n",
    "# driver.find_elements(By.CSS_SELECTOR, 'label#os_nm')[0].get_attribute('textContent')\n",
    "\n",
    "# 2\n",
    "# driver.find_elements(By.CSS_SELECTOR, 'label#os_nm')[0].get_attribute('innerText')\n",
    "\n",
    "# 3\n",
    "driver.find_elements(By.CSS_SELECTOR, 'label#os_nm')[0].get_attribute('innerHTML')"
   ]
  },
  {
   "cell_type": "code",
   "execution_count": null,
   "id": "1e114268",
   "metadata": {},
   "outputs": [],
   "source": [
    "# 바로 위의 시도를 바탕으로 변수에 담아주기\n",
    "station_title_text = driver.find_elements(By.CSS_SELECTOR, 'label#os_nm')[0].get_attribute('innerHTML')"
   ]
  },
  {
   "cell_type": "code",
   "execution_count": null,
   "id": "24acb61b",
   "metadata": {},
   "outputs": [],
   "source": [
    "# 반복문 테스트\n",
    "# 세부 페이지에서 주유소 이름 가져오기\n",
    "\n",
    "import time\n",
    "\n",
    "# 구 선택\n",
    "for i in range(3):\n",
    "    # i+2를 해주는 이유는 강남구등, 이어지는 수순에 있어서 처음나오는 시군구의 숫자가 2이기 때문이다.\n",
    "    gu_selector = f'#SIGUNGU_NM0 > option:nth-child({i+2})'\n",
    "    # gu_selector를 활성화 시켜서 값을 넣어주고, 반복문의 경우엔 교체하며 값을 넣어주는 역할을 한다.\n",
    "    driver.find_element(By.CSS_SELECTOR, gu_selector).click()\n",
    "\n",
    "    # 목적에 맞는 데이터를 가져오는지 확인\n",
    "    totCnt = driver.find_element(By.CSS_SELECTOR,'#totCnt').text\n",
    "    gu_totalCnt = driver.find_elements(By.CSS_SELECTOR, 'tbody#body1 > tr')\n",
    "    time.sleep(0.5)\n",
    "    print('--------------------')\n",
    "    # 주유소 선택\n",
    "    for idx in range(3):\n",
    "        detail_selector = f'#body1 > tr:nth-child({idx+1}) > td.rlist > a'\n",
    "        driver.find_elements(By.CSS_SELECTOR, detail_selector)[0].click()\n",
    "        title = driver.find_elements(By.CSS_SELECTOR, 'label#os_nm')[0].get_attribute('innerText')\n",
    "        print(title)"
   ]
  },
  {
   "cell_type": "code",
   "execution_count": null,
   "id": "71b99a0e",
   "metadata": {},
   "outputs": [],
   "source": [
    "# 테스트 코드\n",
    "\n",
    "# 구별로 순회하면서, 세부 페이지 주유소 이름 수집\n",
    "\n",
    "for i, v in enumerate(gu_list[:3]):\n",
    "    gu_selector = f'#SIGUNGU_NM0 > option:nth-child({i+2})'\n",
    "    driver.find_elements(By.CSS_SELECTOR, gu_selector)[0].click()\n",
    "    station_items = driver.find_elements(By.CSS_SELECTOR, 'tbody#body1 > tr')\n",
    "    print()\n",
    "    print(f'=================={v}에는 주유소가 {len(station_items)}곳 =================')\n",
    "    \n",
    "    for idx in range(len(station_items))[:3]:\n",
    "        detail_selector = f'#body1 > tr:nth-child({idx+1}) > td.rlist > a'\n",
    "        driver.find_elements(By.CSS_SELECTOR, detail_selector)[0].click()\n",
    "        title = driver.find_elements(By.CSS_SELECTOR, 'label#os_nm')[0].get_attribute('innerText')\n",
    "        print(f'{v} 주유소 이름: ', title)\n",
    "    time.sleep(0.5)"
   ]
  },
  {
   "cell_type": "code",
   "execution_count": null,
   "id": "71e74c0a",
   "metadata": {},
   "outputs": [],
   "source": [
    "# 코드 테스트\n",
    "driver.find_elements(By.CSS_SELECTOR, 'tbody#body1 > tr')[0]"
   ]
  },
  {
   "cell_type": "code",
   "execution_count": null,
   "id": "e44edf7a",
   "metadata": {},
   "outputs": [],
   "source": [
    "# 부가정보 데이터 수집\n",
    "name = driver.find_elements(By.CSS_SELECTOR, 'label#os_nm')[0].get_attribute('innerHTML')\n",
    "gasoline = driver.find_elements(By.CSS_SELECTOR, 'label#b027_p')[0].get_attribute('innerText')\n",
    "diesel = driver.find_elements(By.CSS_SELECTOR, 'label#d047_p')[0].get_attribute('innerText')\n",
    "address = driver.find_elements(By.CSS_SELECTOR, 'label#rd_addr')[0].get_attribute('innerText')\n",
    "brand = driver.find_elements(By.CSS_SELECTOR, 'label#poll_div_nm')[0].get_attribute('innerText')\n",
    "\n",
    "print(name, gasoline, diesel, address, brand)"
   ]
  },
  {
   "cell_type": "code",
   "execution_count": null,
   "id": "d4438fa5",
   "metadata": {},
   "outputs": [],
   "source": [
    "# 의문점\n",
    "\n",
    "# 이거는 값 긁어오기가 되었다.\n",
    "driver.find_elements(By.CSS_SELECTOR, 'label#os_nm')[0].get_attribute('innerHTML')\n",
    "\n",
    "# 하지만 이것들은 긁어와 지지가 않았다.\n",
    "\n",
    "# 부가정보 데이터 수집\n",
    "name = driver.find_elements(By.CSS_SELECTOR, 'label#os_nm')[0].get_attribute('innderHTML')\n",
    "gasoline = driver.find_elements(By.CSS_SELECTOR, 'label#b027_p')[0].get_attribute('innderText')\n",
    "diesel = driver.find_elements(By.CSS_SELECTOR, 'label#d047_p')[0].get_attribute('innderText')\n",
    "address = driver.find_elements(By.CSS_SELECTOR, 'label#rd_addr')[0].get_attribute('innderText')\n",
    "brand = driver.find_elements(By.CSS_SELECTOR, 'label#poll_div_nm')[0].get_attribute('innderText')\n",
    "\n",
    "print(name, gasoline, diesel, address, brand)"
   ]
  },
  {
   "cell_type": "code",
   "execution_count": null,
   "id": "52f9809f",
   "metadata": {},
   "outputs": [],
   "source": [
    "service_main = driver.find_elements(By.CSS_SELECTOR, 'div.service')[0]"
   ]
  },
  {
   "cell_type": "code",
   "execution_count": null,
   "id": "76e96f78",
   "metadata": {},
   "outputs": [],
   "source": [
    "# 서비스 명\n",
    "cwsh_yn = service_main.find_elements(By.CSS_SELECTOR, 'img#cwsh_yn')[0].get_attribute('alt')\n",
    "# 서비스 유무\n",
    "ser_cwsh_yn = 'N' if 'off' in service_main.find_elements(By.CSS_SELECTOR, 'img#cwsh_yn')[0].get_attribute('src').split('/')[-1] else 'Y'\n",
    "\n",
    "# 서비스 명\n",
    "lpg_yn = service_main.find_elements(By.CSS_SELECTOR, 'img#lpg_yn')[0].get_attribute('alt')\n",
    "# 서비스 유무\n",
    "ser_lpg_yn = 'N' if 'off' in service_main.find_elements(By.CSS_SELECTOR, 'img#lpg_yn')[0].get_attribute('src') else 'Y'\n",
    "\n",
    "maint_yn = service_main.find_elements(By.CSS_SELECTOR, 'img#maint_yn')[0].get_attribute('alt')\n",
    "ser_maint_yn = 'N' if 'off' in service_main.find_elements(By.CSS_SELECTOR, 'img#maint_yn')[0].get_attribute('src') else 'Y'\n",
    "\n",
    "cvs_yn = service_main.find_elements(By.CSS_SELECTOR, 'img#cvs_yn')[0].get_attribute('alt')\n",
    "ser_cvs_yn = 'N' if 'off' in service_main.find_elements(By.CSS_SELECTOR, 'img#cvs_yn')[0].get_attribute('src') else 'Y'\n",
    "\n",
    "sel24_yn = service_main.find_elements(By.CSS_SELECTOR, 'img#sel24_yn')[0].get_attribute('alt')\n",
    "ser_sel24_yn = 'N' if 'off' in service_main.find_elements(By.CSS_SELECTOR, 'img#sel24_yn')[0].get_attribute('src') else 'Y'"
   ]
  },
  {
   "cell_type": "markdown",
   "id": "41a13aa7",
   "metadata": {},
   "source": [
    "## 체크 끝났고, 본격 스크래핑 시작 라인"
   ]
  },
  {
   "cell_type": "code",
   "execution_count": null,
   "id": "a48ab58c",
   "metadata": {},
   "outputs": [],
   "source": [
    "#1. 페이지 접근\n",
    "\n",
    "url = 'https://www.opinet.co.kr/searRgSelect.do'\n",
    "driver = webdriver.Chrome('/Users/daniel_choi/opt/anaconda3/envs/ds_study/lib/python3.8/site-packages/chromedriver_autoinstaller/103/chromedriver')\n",
    "driver.get(url)\n",
    "driver.get(url)"
   ]
  },
  {
   "cell_type": "code",
   "execution_count": null,
   "id": "33062373",
   "metadata": {},
   "outputs": [],
   "source": [
    "# 시, 도 리스트\n",
    "sido_raw = driver.find_elements(By.CSS_SELECTOR, 'select#SIDO_NM0 > option')\n",
    "\n",
    "sido_list = []\n",
    "for i in sido_raw[1:]:\n",
    "    sido_list.append(i.text)\n",
    "\n",
    "# 시군구\n",
    "gu_list_raw = driver.find_elements(By.CSS_SELECTOR, 'select#SIGUNGU_NM0 > option')\n",
    "len(gu_list_raw)\n",
    "\n",
    "gu_list = []\n",
    "for i in gu_list_raw[1:]:\n",
    "    gu_list.append(i.text)"
   ]
  },
  {
   "cell_type": "code",
   "execution_count": null,
   "id": "f1b0a191",
   "metadata": {},
   "outputs": [],
   "source": [
    "# 서울 key send 하기\n",
    "\n",
    "seoul = driver.find_elements(By.CSS_SELECTOR, 'select#SIDO_NM0')[0]\n",
    "seoul.send_keys(sido_list[0])"
   ]
  },
  {
   "cell_type": "code",
   "execution_count": null,
   "id": "cd3d81c7",
   "metadata": {},
   "outputs": [],
   "source": [
    "# googlemaps api key\n",
    "keys = '본인들의 api 구글키를 입력하는 자리입니다.'\n",
    "gmaps = googlemaps.Client(key = keys)\n",
    "\n",
    "datas = []\n",
    "\n",
    "for i in range(len(gu_list)):\n",
    "    gu_selector = f'#SIGUNGU_NM0 > option:nth-child({i+2})'\n",
    "    driver.find_element(By.CSS_SELECTOR, gu_selector).click()\n",
    "    station_items = driver.find_elements(By.CSS_SELECTOR, 'tbody#body1 > tr')\n",
    "\n",
    "    for idx in range(len(station_items)):\n",
    "        detail_selector = f'#body1 > tr:nth-child({idx+1}) > td.rlist > a'\n",
    "        driver.find_elements(By.CSS_SELECTOR, detail_selector)[0].click()\n",
    "        \n",
    "        name = driver.find_elements(By.CSS_SELECTOR, 'label#os_nm')[0].get_attribute('innerHTML')\n",
    "        gasoline = driver.find_elements(By.CSS_SELECTOR, 'label#b027_p')[0].get_attribute('innerText')\n",
    "        diesel = driver.find_elements(By.CSS_SELECTOR, 'label#d047_p')[0].get_attribute('innerText')\n",
    "        address = driver.find_elements(By.CSS_SELECTOR, 'label#rd_addr')[0].get_attribute('innerText')\n",
    "        brand = driver.find_elements(By.CSS_SELECTOR, 'label#poll_div_nm')[0].get_attribute('innerText')\n",
    "        car_wash = 'N'  if 'off' in driver.find_elements(By.CSS_SELECTOR, 'img#cwsh_yn')[0].get_attribute('src') else 'Y'\n",
    "        lpg_yn = 'N'  if 'off' in driver.find_elements(By.CSS_SELECTOR, 'img#lpg_yn')[0].get_attribute('src') else 'Y'\n",
    "        maint_yn = 'N'  if 'off' in driver.find_elements(By.CSS_SELECTOR, 'img#maint_yn')[0].get_attribute('src') else 'Y'\n",
    "        cvs_yn = 'N'  if 'off' in driver.find_elements(By.CSS_SELECTOR, 'img#cvs_yn')[0].get_attribute('src') else 'Y'\n",
    "        sel24_yn = 'N'  if 'off' in driver.find_elements(By.CSS_SELECTOR, 'img#sel24_yn')[0].get_attribute('src') else 'Y'\n",
    "\n",
    "        try:\n",
    "            driver.find_elements(By.CSS_SELECTOR, '#self_icon')[0].get_attribute('alt')\n",
    "            is_self = 'Y'\n",
    "        except:\n",
    "            is_self = 'N'\n",
    "\n",
    "        \n",
    "        # address\n",
    "        address = driver.find_elements(By.CSS_SELECTOR, 'label#rd_addr')[0].get_attribute('innerText')\n",
    "        # gu\n",
    "        gu = address.split()[1]\n",
    "        \n",
    "\n",
    "        # lat, lng\n",
    "        tmp = gmaps.geocode(address, language='ko')\n",
    "        lat = tmp[0].get('geometry')['location']['lat']\n",
    "        lng = tmp[0].get('geometry')['location']['lng']\n",
    "\n",
    "        datas.append({\n",
    "            'name' : name,\n",
    "            'address' : address,\n",
    "            'brand' : brand,\n",
    "            'is_self' : is_self,\n",
    "            'gasoline' : gasoline,\n",
    "            'diesel' : diesel,\n",
    "            'car_wash' : car_wash,\n",
    "            'charging_station': lpg_yn,\n",
    "            'car_maintenance': maint_yn,\n",
    "            'convinience_store' : cvs_yn,\n",
    "            '24_hour' : sel24_yn,\n",
    "            'gu' : gu,\n",
    "            'lat': lat,\n",
    "            'lng' : lng\n",
    "        })\n",
    "\n",
    "        time.sleep(0.3)\n",
    "    time.sleep(0.5)\n",
    "driver.quit()"
   ]
  },
  {
   "cell_type": "code",
   "execution_count": null,
   "id": "84f4bbee",
   "metadata": {},
   "outputs": [],
   "source": [
    "# 대략적인 길이로 얼추 데이터의 갯수가 맞는지 확인\n",
    "len(datas)"
   ]
  },
  {
   "cell_type": "code",
   "execution_count": null,
   "id": "4f56c0ba",
   "metadata": {},
   "outputs": [],
   "source": [
    "# df 변수에 데이터를 담고, 끝의 데이터를 보기\n",
    "df = pd.DataFrame(datas)\n",
    "df.tail()"
   ]
  },
  {
   "cell_type": "code",
   "execution_count": null,
   "id": "acdd7c20",
   "metadata": {},
   "outputs": [],
   "source": [
    "# 먼저 오게될 데이터를 보기\n",
    "df.head(4)"
   ]
  },
  {
   "cell_type": "code",
   "execution_count": null,
   "id": "855f7ee5",
   "metadata": {},
   "outputs": [],
   "source": [
    "# null 값이 없다는것이 포인트다\n",
    "df.info()"
   ]
  },
  {
   "cell_type": "markdown",
   "id": "3e7df1fe",
   "metadata": {},
   "source": [
    "## 수집된 데이터 저장 구간"
   ]
  },
  {
   "cell_type": "code",
   "execution_count": null,
   "id": "447496ca",
   "metadata": {},
   "outputs": [],
   "source": [
    "# csv 파일로 저장\n",
    "\n",
    "import datetime\n",
    "\n",
    "now = datetime.datetime.now()\n",
    "nowDate = now.strftime('%Y%m%d')\n",
    "\n",
    "df.to_csv(f'./oilstation_oneday_{nowDate}.csv', encoding='utf8')"
   ]
  },
  {
   "cell_type": "code",
   "execution_count": null,
   "id": "311d8630",
   "metadata": {},
   "outputs": [],
   "source": [
    "# csv 파일 읽기\n",
    "\n",
    "# thousands=',' 라고 해주는것은 기존의 천단위 구분표시를 없애고 문자형태에서 int형태로 바꿔준다는 뜻이다.\n",
    "stations = pd.read_csv('./oilstation_oneday_20220705.csv', encoding='utf-8', thousands=',',  index_col=0)\n",
    "stations"
   ]
  }
 ],
 "metadata": {
  "kernelspec": {
   "display_name": "Python 3 (ipykernel)",
   "language": "python",
   "name": "python3"
  },
  "language_info": {
   "codemirror_mode": {
    "name": "ipython",
    "version": 3
   },
   "file_extension": ".py",
   "mimetype": "text/x-python",
   "name": "python",
   "nbconvert_exporter": "python",
   "pygments_lexer": "ipython3",
   "version": "3.9.13"
  }
 },
 "nbformat": 4,
 "nbformat_minor": 5
}
